{
 "cells": [
  {
   "cell_type": "code",
   "execution_count": 1,
   "id": "warming-remainder",
   "metadata": {},
   "outputs": [],
   "source": [
    "import pandas as pd\n",
    "import requests\n",
    "import re\n",
    "from instaloader import Instaloader, Profile"
   ]
  },
  {
   "cell_type": "markdown",
   "id": "radio-capacity",
   "metadata": {},
   "source": [
    "### Import season 12 episode placements to update spreadsheet"
   ]
  },
  {
   "cell_type": "code",
   "execution_count": 2,
   "id": "accredited-offset",
   "metadata": {},
   "outputs": [],
   "source": [
    "html_url = \"https://en.wikipedia.org/wiki/RuPaul%27s_Drag_Race_(season_12)\""
   ]
  },
  {
   "cell_type": "code",
   "execution_count": 3,
   "id": "committed-victor",
   "metadata": {},
   "outputs": [
    {
     "output_type": "execute_result",
     "data": {
      "text/plain": [
       "list"
      ]
     },
     "metadata": {},
     "execution_count": 3
    }
   ],
   "source": [
    "r = requests.get(html_url)\n",
    "wiki_tables = pd.read_html(r.text, header=0)\n",
    "type(wiki_tables)"
   ]
  },
  {
   "cell_type": "code",
   "execution_count": 4,
   "id": "inappropriate-trademark",
   "metadata": {},
   "outputs": [
    {
     "output_type": "execute_result",
     "data": {
      "text/plain": [
       "22"
      ]
     },
     "metadata": {},
     "execution_count": 4
    }
   ],
   "source": [
    "len(wiki_tables)"
   ]
  },
  {
   "cell_type": "code",
   "execution_count": 5,
   "id": "unlimited-feeling",
   "metadata": {},
   "outputs": [
    {
     "output_type": "stream",
     "name": "stdout",
     "text": [
      "            Contestant     1     2     3     4     5     6     7     8     9  \\\n0   Jaida Essence Hall   NaN   WIN  SAFE  HIGH  SAFE  SAFE  SAFE  HIGH   WIN   \n1           Gigi Goode  TOP2   NaN  SAFE   WIN  HIGH   WIN   WIN   LOW   LOW   \n2       Crystal Methyd  SAFE   NaN   LOW  SAFE  SAFE   LOW  HIGH  HIGH  HIGH   \n3           Sherry Pie   NaN  TOP2   WIN  SAFE   WIN  HIGH  SAFE   LOW  SAFE   \n4           Jackie Cox  HIGH   NaN  HIGH  SAFE  HIGH  HIGH   LOW  HIGH  BTM2   \n5       Heidi N Closet   LOW   NaN  HIGH  SAFE  BTM2  SAFE  BTM2   WIN  HIGH   \n6         Widow Von'Du   WIN   NaN  SAFE  SAFE  HIGH  SAFE  SAFE  BTM2  ELIM   \n7                  Jan   NaN  HIGH  SAFE  SAFE  HIGH  SAFE  HIGH  ELIM   NaN   \n8                Brita  HIGH   NaN  SAFE  BTM2   LOW  BTM2  ELIM   NaN   NaN   \n9          Aiden Zhane   NaN  HIGH  SAFE   LOW  HIGH  ELIM   NaN   NaN   NaN   \n10          Nicky Doll   LOW   NaN  BTM2  HIGH  ELIM   NaN   NaN   NaN   NaN   \n11      Rock M. Sakura   NaN   LOW  SAFE  ELIM   NaN   NaN   NaN   NaN   NaN   \n12          Dahlia Sin   NaN   LOW  ELIM   NaN   NaN   NaN   NaN   NaN   NaN   \n\n      10    11    12     13         14  Unnamed: 15  \n0    WIN  BTM2  HIGH  Guest     Winner          NaN  \n1   SAFE  SAFE   WIN  Guest  Runner-up          NaN  \n2   HIGH   WIN  BTM2  Guest  Runner-up          NaN  \n3   HIGH   LOW  DISQ    NaN        NaN          NaN  \n4   BTM2  HIGH  ELIM  Guest      Guest          NaN  \n5   BTM2  ELIM   NaN  Guest     Miss C          NaN  \n6    NaN   NaN   NaN  Guest      Guest          NaN  \n7    NaN   NaN   NaN  Guest      Guest          NaN  \n8    NaN   NaN   NaN  Guest      Guest          NaN  \n9    NaN   NaN   NaN  Guest      Guest          NaN  \n10   NaN   NaN   NaN  Guest      Guest          NaN  \n11   NaN   NaN   NaN  Guest      Guest          NaN  \n12   NaN   NaN   NaN  Guest      Guest          NaN  \n"
     ]
    }
   ],
   "source": [
    "print(wiki_tables[2])"
   ]
  },
  {
   "cell_type": "code",
   "execution_count": 6,
   "id": "acquired-respect",
   "metadata": {},
   "outputs": [],
   "source": [
    "s12 = wiki_tables[2]"
   ]
  },
  {
   "cell_type": "code",
   "execution_count": 7,
   "id": "optional-career",
   "metadata": {},
   "outputs": [
    {
     "output_type": "execute_result",
     "data": {
      "text/plain": [
       "           Contestant     1     2     3     4     5     6     7     8     9  \\\n",
       "0  Jaida Essence Hall   NaN   WIN  SAFE  HIGH  SAFE  SAFE  SAFE  HIGH   WIN   \n",
       "1          Gigi Goode  TOP2   NaN  SAFE   WIN  HIGH   WIN   WIN   LOW   LOW   \n",
       "2      Crystal Methyd  SAFE   NaN   LOW  SAFE  SAFE   LOW  HIGH  HIGH  HIGH   \n",
       "3          Sherry Pie   NaN  TOP2   WIN  SAFE   WIN  HIGH  SAFE   LOW  SAFE   \n",
       "4          Jackie Cox  HIGH   NaN  HIGH  SAFE  HIGH  HIGH   LOW  HIGH  BTM2   \n",
       "\n",
       "     10    11    12     13         14  Unnamed: 15  \n",
       "0   WIN  BTM2  HIGH  Guest     Winner          NaN  \n",
       "1  SAFE  SAFE   WIN  Guest  Runner-up          NaN  \n",
       "2  HIGH   WIN  BTM2  Guest  Runner-up          NaN  \n",
       "3  HIGH   LOW  DISQ    NaN        NaN          NaN  \n",
       "4  BTM2  HIGH  ELIM  Guest      Guest          NaN  "
      ],
      "text/html": "<div>\n<style scoped>\n    .dataframe tbody tr th:only-of-type {\n        vertical-align: middle;\n    }\n\n    .dataframe tbody tr th {\n        vertical-align: top;\n    }\n\n    .dataframe thead th {\n        text-align: right;\n    }\n</style>\n<table border=\"1\" class=\"dataframe\">\n  <thead>\n    <tr style=\"text-align: right;\">\n      <th></th>\n      <th>Contestant</th>\n      <th>1</th>\n      <th>2</th>\n      <th>3</th>\n      <th>4</th>\n      <th>5</th>\n      <th>6</th>\n      <th>7</th>\n      <th>8</th>\n      <th>9</th>\n      <th>10</th>\n      <th>11</th>\n      <th>12</th>\n      <th>13</th>\n      <th>14</th>\n      <th>Unnamed: 15</th>\n    </tr>\n  </thead>\n  <tbody>\n    <tr>\n      <th>0</th>\n      <td>Jaida Essence Hall</td>\n      <td>NaN</td>\n      <td>WIN</td>\n      <td>SAFE</td>\n      <td>HIGH</td>\n      <td>SAFE</td>\n      <td>SAFE</td>\n      <td>SAFE</td>\n      <td>HIGH</td>\n      <td>WIN</td>\n      <td>WIN</td>\n      <td>BTM2</td>\n      <td>HIGH</td>\n      <td>Guest</td>\n      <td>Winner</td>\n      <td>NaN</td>\n    </tr>\n    <tr>\n      <th>1</th>\n      <td>Gigi Goode</td>\n      <td>TOP2</td>\n      <td>NaN</td>\n      <td>SAFE</td>\n      <td>WIN</td>\n      <td>HIGH</td>\n      <td>WIN</td>\n      <td>WIN</td>\n      <td>LOW</td>\n      <td>LOW</td>\n      <td>SAFE</td>\n      <td>SAFE</td>\n      <td>WIN</td>\n      <td>Guest</td>\n      <td>Runner-up</td>\n      <td>NaN</td>\n    </tr>\n    <tr>\n      <th>2</th>\n      <td>Crystal Methyd</td>\n      <td>SAFE</td>\n      <td>NaN</td>\n      <td>LOW</td>\n      <td>SAFE</td>\n      <td>SAFE</td>\n      <td>LOW</td>\n      <td>HIGH</td>\n      <td>HIGH</td>\n      <td>HIGH</td>\n      <td>HIGH</td>\n      <td>WIN</td>\n      <td>BTM2</td>\n      <td>Guest</td>\n      <td>Runner-up</td>\n      <td>NaN</td>\n    </tr>\n    <tr>\n      <th>3</th>\n      <td>Sherry Pie</td>\n      <td>NaN</td>\n      <td>TOP2</td>\n      <td>WIN</td>\n      <td>SAFE</td>\n      <td>WIN</td>\n      <td>HIGH</td>\n      <td>SAFE</td>\n      <td>LOW</td>\n      <td>SAFE</td>\n      <td>HIGH</td>\n      <td>LOW</td>\n      <td>DISQ</td>\n      <td>NaN</td>\n      <td>NaN</td>\n      <td>NaN</td>\n    </tr>\n    <tr>\n      <th>4</th>\n      <td>Jackie Cox</td>\n      <td>HIGH</td>\n      <td>NaN</td>\n      <td>HIGH</td>\n      <td>SAFE</td>\n      <td>HIGH</td>\n      <td>HIGH</td>\n      <td>LOW</td>\n      <td>HIGH</td>\n      <td>BTM2</td>\n      <td>BTM2</td>\n      <td>HIGH</td>\n      <td>ELIM</td>\n      <td>Guest</td>\n      <td>Guest</td>\n      <td>NaN</td>\n    </tr>\n  </tbody>\n</table>\n</div>"
     },
     "metadata": {},
     "execution_count": 7
    }
   ],
   "source": [
    "s12.head()"
   ]
  },
  {
   "cell_type": "markdown",
   "id": "official-wagner",
   "metadata": {},
   "source": [
    "### Import existing contestant info spreadsheet"
   ]
  },
  {
   "cell_type": "code",
   "execution_count": 8,
   "id": "sound-accident",
   "metadata": {},
   "outputs": [],
   "source": [
    "contestants = pd.read_csv(\"Copy of RuPaul-Predict-A-Looza — Data Tables - all_contestants.csv\")"
   ]
  },
  {
   "cell_type": "code",
   "execution_count": 9,
   "id": "monetary-trader",
   "metadata": {},
   "outputs": [
    {
     "output_type": "execute_result",
     "data": {
      "text/plain": [
       "   contestant_id  season_number  contestant_entrance  \\\n",
       "0              1              1                    1   \n",
       "1              2              1                    2   \n",
       "2              3              1                    3   \n",
       "3              4              1                    4   \n",
       "4              5              1                    5   \n",
       "\n",
       "            contestant_name  age    hometown_city  hometown_state  \\\n",
       "0                   Shannel   29        Las Vegas          Nevada   \n",
       "1              Nina Flowers   34          Bayamon     Puerto Rico   \n",
       "2         Rebecca Glasscock   26  Fort Lauderdale         Florida   \n",
       "3                    Ongina   26      Los Angeles      California   \n",
       "4  Victoria Porkchop Parker   39          Raleigh  North Carolina   \n",
       "\n",
       "   season_outcome    handle_instagram   handle_twitter  \n",
       "0               4  theofficialshannel  ShannelOfficial  \n",
       "1               2       djninaflowers    DJNinaFlowers  \n",
       "2               3                 NaN  rebeccaglasscoc  \n",
       "3               5              ongina           ongina  \n",
       "4               9          porkchopla     PorkChopLA ‏  "
      ],
      "text/html": "<div>\n<style scoped>\n    .dataframe tbody tr th:only-of-type {\n        vertical-align: middle;\n    }\n\n    .dataframe tbody tr th {\n        vertical-align: top;\n    }\n\n    .dataframe thead th {\n        text-align: right;\n    }\n</style>\n<table border=\"1\" class=\"dataframe\">\n  <thead>\n    <tr style=\"text-align: right;\">\n      <th></th>\n      <th>contestant_id</th>\n      <th>season_number</th>\n      <th>contestant_entrance</th>\n      <th>contestant_name</th>\n      <th>age</th>\n      <th>hometown_city</th>\n      <th>hometown_state</th>\n      <th>season_outcome</th>\n      <th>handle_instagram</th>\n      <th>handle_twitter</th>\n    </tr>\n  </thead>\n  <tbody>\n    <tr>\n      <th>0</th>\n      <td>1</td>\n      <td>1</td>\n      <td>1</td>\n      <td>Shannel</td>\n      <td>29</td>\n      <td>Las Vegas</td>\n      <td>Nevada</td>\n      <td>4</td>\n      <td>theofficialshannel</td>\n      <td>ShannelOfficial</td>\n    </tr>\n    <tr>\n      <th>1</th>\n      <td>2</td>\n      <td>1</td>\n      <td>2</td>\n      <td>Nina Flowers</td>\n      <td>34</td>\n      <td>Bayamon</td>\n      <td>Puerto Rico</td>\n      <td>2</td>\n      <td>djninaflowers</td>\n      <td>DJNinaFlowers</td>\n    </tr>\n    <tr>\n      <th>2</th>\n      <td>3</td>\n      <td>1</td>\n      <td>3</td>\n      <td>Rebecca Glasscock</td>\n      <td>26</td>\n      <td>Fort Lauderdale</td>\n      <td>Florida</td>\n      <td>3</td>\n      <td>NaN</td>\n      <td>rebeccaglasscoc</td>\n    </tr>\n    <tr>\n      <th>3</th>\n      <td>4</td>\n      <td>1</td>\n      <td>4</td>\n      <td>Ongina</td>\n      <td>26</td>\n      <td>Los Angeles</td>\n      <td>California</td>\n      <td>5</td>\n      <td>ongina</td>\n      <td>ongina</td>\n    </tr>\n    <tr>\n      <th>4</th>\n      <td>5</td>\n      <td>1</td>\n      <td>5</td>\n      <td>Victoria Porkchop Parker</td>\n      <td>39</td>\n      <td>Raleigh</td>\n      <td>North Carolina</td>\n      <td>9</td>\n      <td>porkchopla</td>\n      <td>PorkChopLA ‏</td>\n    </tr>\n  </tbody>\n</table>\n</div>"
     },
     "metadata": {},
     "execution_count": 9
    }
   ],
   "source": [
    "contestants.head()"
   ]
  },
  {
   "cell_type": "markdown",
   "id": "differential-nomination",
   "metadata": {},
   "source": [
    "### Rename column to match existing data"
   ]
  },
  {
   "cell_type": "code",
   "execution_count": 10,
   "id": "sized-burst",
   "metadata": {},
   "outputs": [],
   "source": [
    "s12 = s12.rename(columns={\"Contestant\": \"contestant_name\"})"
   ]
  },
  {
   "cell_type": "code",
   "execution_count": 11,
   "id": "amended-damages",
   "metadata": {},
   "outputs": [
    {
     "output_type": "execute_result",
     "data": {
      "text/plain": [
       "      contestant_name     1     2     3     4     5     6     7     8     9  \\\n",
       "0  Jaida Essence Hall   NaN   WIN  SAFE  HIGH  SAFE  SAFE  SAFE  HIGH   WIN   \n",
       "1          Gigi Goode  TOP2   NaN  SAFE   WIN  HIGH   WIN   WIN   LOW   LOW   \n",
       "2      Crystal Methyd  SAFE   NaN   LOW  SAFE  SAFE   LOW  HIGH  HIGH  HIGH   \n",
       "3          Sherry Pie   NaN  TOP2   WIN  SAFE   WIN  HIGH  SAFE   LOW  SAFE   \n",
       "4          Jackie Cox  HIGH   NaN  HIGH  SAFE  HIGH  HIGH   LOW  HIGH  BTM2   \n",
       "\n",
       "     10    11    12     13         14  Unnamed: 15  \n",
       "0   WIN  BTM2  HIGH  Guest     Winner          NaN  \n",
       "1  SAFE  SAFE   WIN  Guest  Runner-up          NaN  \n",
       "2  HIGH   WIN  BTM2  Guest  Runner-up          NaN  \n",
       "3  HIGH   LOW  DISQ    NaN        NaN          NaN  \n",
       "4  BTM2  HIGH  ELIM  Guest      Guest          NaN  "
      ],
      "text/html": "<div>\n<style scoped>\n    .dataframe tbody tr th:only-of-type {\n        vertical-align: middle;\n    }\n\n    .dataframe tbody tr th {\n        vertical-align: top;\n    }\n\n    .dataframe thead th {\n        text-align: right;\n    }\n</style>\n<table border=\"1\" class=\"dataframe\">\n  <thead>\n    <tr style=\"text-align: right;\">\n      <th></th>\n      <th>contestant_name</th>\n      <th>1</th>\n      <th>2</th>\n      <th>3</th>\n      <th>4</th>\n      <th>5</th>\n      <th>6</th>\n      <th>7</th>\n      <th>8</th>\n      <th>9</th>\n      <th>10</th>\n      <th>11</th>\n      <th>12</th>\n      <th>13</th>\n      <th>14</th>\n      <th>Unnamed: 15</th>\n    </tr>\n  </thead>\n  <tbody>\n    <tr>\n      <th>0</th>\n      <td>Jaida Essence Hall</td>\n      <td>NaN</td>\n      <td>WIN</td>\n      <td>SAFE</td>\n      <td>HIGH</td>\n      <td>SAFE</td>\n      <td>SAFE</td>\n      <td>SAFE</td>\n      <td>HIGH</td>\n      <td>WIN</td>\n      <td>WIN</td>\n      <td>BTM2</td>\n      <td>HIGH</td>\n      <td>Guest</td>\n      <td>Winner</td>\n      <td>NaN</td>\n    </tr>\n    <tr>\n      <th>1</th>\n      <td>Gigi Goode</td>\n      <td>TOP2</td>\n      <td>NaN</td>\n      <td>SAFE</td>\n      <td>WIN</td>\n      <td>HIGH</td>\n      <td>WIN</td>\n      <td>WIN</td>\n      <td>LOW</td>\n      <td>LOW</td>\n      <td>SAFE</td>\n      <td>SAFE</td>\n      <td>WIN</td>\n      <td>Guest</td>\n      <td>Runner-up</td>\n      <td>NaN</td>\n    </tr>\n    <tr>\n      <th>2</th>\n      <td>Crystal Methyd</td>\n      <td>SAFE</td>\n      <td>NaN</td>\n      <td>LOW</td>\n      <td>SAFE</td>\n      <td>SAFE</td>\n      <td>LOW</td>\n      <td>HIGH</td>\n      <td>HIGH</td>\n      <td>HIGH</td>\n      <td>HIGH</td>\n      <td>WIN</td>\n      <td>BTM2</td>\n      <td>Guest</td>\n      <td>Runner-up</td>\n      <td>NaN</td>\n    </tr>\n    <tr>\n      <th>3</th>\n      <td>Sherry Pie</td>\n      <td>NaN</td>\n      <td>TOP2</td>\n      <td>WIN</td>\n      <td>SAFE</td>\n      <td>WIN</td>\n      <td>HIGH</td>\n      <td>SAFE</td>\n      <td>LOW</td>\n      <td>SAFE</td>\n      <td>HIGH</td>\n      <td>LOW</td>\n      <td>DISQ</td>\n      <td>NaN</td>\n      <td>NaN</td>\n      <td>NaN</td>\n    </tr>\n    <tr>\n      <th>4</th>\n      <td>Jackie Cox</td>\n      <td>HIGH</td>\n      <td>NaN</td>\n      <td>HIGH</td>\n      <td>SAFE</td>\n      <td>HIGH</td>\n      <td>HIGH</td>\n      <td>LOW</td>\n      <td>HIGH</td>\n      <td>BTM2</td>\n      <td>BTM2</td>\n      <td>HIGH</td>\n      <td>ELIM</td>\n      <td>Guest</td>\n      <td>Guest</td>\n      <td>NaN</td>\n    </tr>\n  </tbody>\n</table>\n</div>"
     },
     "metadata": {},
     "execution_count": 11
    }
   ],
   "source": [
    "s12.head()"
   ]
  },
  {
   "cell_type": "markdown",
   "id": "increased-editing",
   "metadata": {},
   "source": [
    "### Import existing episode ranking spreadsheet"
   ]
  },
  {
   "cell_type": "code",
   "execution_count": 12,
   "id": "blond-gossip",
   "metadata": {},
   "outputs": [],
   "source": [
    "ep_rank = pd.read_csv(\"Copy of RuPaul-Predict-A-Looza — Data Tables - all_rankings.csv\")"
   ]
  },
  {
   "cell_type": "code",
   "execution_count": 13,
   "id": "entertaining-commodity",
   "metadata": {},
   "outputs": [
    {
     "output_type": "execute_result",
     "data": {
      "text/plain": [
       "   season_number  episode_number  contestant_id episode_placement\n",
       "0              1               1              9              SAFE\n",
       "1              1               1              2               WIN\n",
       "2              1               1              3               LOW\n",
       "3              1               1              1              SAFE\n",
       "4              1               1              4              HIGH"
      ],
      "text/html": "<div>\n<style scoped>\n    .dataframe tbody tr th:only-of-type {\n        vertical-align: middle;\n    }\n\n    .dataframe tbody tr th {\n        vertical-align: top;\n    }\n\n    .dataframe thead th {\n        text-align: right;\n    }\n</style>\n<table border=\"1\" class=\"dataframe\">\n  <thead>\n    <tr style=\"text-align: right;\">\n      <th></th>\n      <th>season_number</th>\n      <th>episode_number</th>\n      <th>contestant_id</th>\n      <th>episode_placement</th>\n    </tr>\n  </thead>\n  <tbody>\n    <tr>\n      <th>0</th>\n      <td>1</td>\n      <td>1</td>\n      <td>9</td>\n      <td>SAFE</td>\n    </tr>\n    <tr>\n      <th>1</th>\n      <td>1</td>\n      <td>1</td>\n      <td>2</td>\n      <td>WIN</td>\n    </tr>\n    <tr>\n      <th>2</th>\n      <td>1</td>\n      <td>1</td>\n      <td>3</td>\n      <td>LOW</td>\n    </tr>\n    <tr>\n      <th>3</th>\n      <td>1</td>\n      <td>1</td>\n      <td>1</td>\n      <td>SAFE</td>\n    </tr>\n    <tr>\n      <th>4</th>\n      <td>1</td>\n      <td>1</td>\n      <td>4</td>\n      <td>HIGH</td>\n    </tr>\n  </tbody>\n</table>\n</div>"
     },
     "metadata": {},
     "execution_count": 13
    }
   ],
   "source": [
    "ep_rank.head()"
   ]
  },
  {
   "cell_type": "code",
   "execution_count": 14,
   "id": "rolled-syria",
   "metadata": {},
   "outputs": [
    {
     "output_type": "stream",
     "name": "stdout",
     "text": [
      "<class 'pandas.core.frame.DataFrame'>\nRangeIndex: 1200 entries, 0 to 1199\nData columns (total 4 columns):\n #   Column             Non-Null Count  Dtype \n---  ------             --------------  ----- \n 0   season_number      1200 non-null   int64 \n 1   episode_number     1200 non-null   int64 \n 2   contestant_id      1200 non-null   int64 \n 3   episode_placement  1200 non-null   object\ndtypes: int64(3), object(1)\nmemory usage: 37.6+ KB\n"
     ]
    }
   ],
   "source": [
    "ep_rank.info()"
   ]
  },
  {
   "cell_type": "markdown",
   "id": "accepting-interaction",
   "metadata": {},
   "source": [
    "### Merge to match contestant name to contestant id in existing ranking spreadsheet, add season number"
   ]
  },
  {
   "cell_type": "code",
   "execution_count": 15,
   "id": "arranged-mason",
   "metadata": {},
   "outputs": [],
   "source": [
    "merged = pd.merge(s12, contestants)\n",
    "merged[\"season_number\"] = \"12\""
   ]
  },
  {
   "cell_type": "code",
   "execution_count": 16,
   "id": "recreational-tobacco",
   "metadata": {},
   "outputs": [
    {
     "output_type": "execute_result",
     "data": {
      "text/plain": [
       "      contestant_name     1     2     3     4     5     6     7     8     9  \\\n",
       "0  Jaida Essence Hall   NaN   WIN  SAFE  HIGH  SAFE  SAFE  SAFE  HIGH   WIN   \n",
       "1          Gigi Goode  TOP2   NaN  SAFE   WIN  HIGH   WIN   WIN   LOW   LOW   \n",
       "2      Crystal Methyd  SAFE   NaN   LOW  SAFE  SAFE   LOW  HIGH  HIGH  HIGH   \n",
       "3          Sherry Pie   NaN  TOP2   WIN  SAFE   WIN  HIGH  SAFE   LOW  SAFE   \n",
       "4          Jackie Cox  HIGH   NaN  HIGH  SAFE  HIGH  HIGH   LOW  HIGH  BTM2   \n",
       "\n",
       "   ... Unnamed: 15 contestant_id season_number contestant_entrance age  \\\n",
       "0  ...         NaN           156            12                  12  32   \n",
       "1  ...         NaN           150            12                   6  21   \n",
       "2  ...         NaN           151            12                   7  28   \n",
       "3  ...         NaN           154            12                  10  27   \n",
       "4  ...         NaN           148            12                   4  34   \n",
       "\n",
       "   hometown_city  hometown_state season_outcome  handle_instagram  \\\n",
       "0      Milwaukee       Wisconsin              1        jaidaehall   \n",
       "1    Los Angeles      California              2      thegigigoode   \n",
       "2    Springfield        Missouri              2     crystalmethyd   \n",
       "3       New York        New York              0      sherrypienyc   \n",
       "4       New York        New York              5      jackiecoxnyc   \n",
       "\n",
       "   handle_twitter  \n",
       "0      jaidaehall  \n",
       "1    thegigigoode  \n",
       "2   crystalmethyd  \n",
       "3    sherrypienyc  \n",
       "4    jackiecoxnyc  \n",
       "\n",
       "[5 rows x 25 columns]"
      ],
      "text/html": "<div>\n<style scoped>\n    .dataframe tbody tr th:only-of-type {\n        vertical-align: middle;\n    }\n\n    .dataframe tbody tr th {\n        vertical-align: top;\n    }\n\n    .dataframe thead th {\n        text-align: right;\n    }\n</style>\n<table border=\"1\" class=\"dataframe\">\n  <thead>\n    <tr style=\"text-align: right;\">\n      <th></th>\n      <th>contestant_name</th>\n      <th>1</th>\n      <th>2</th>\n      <th>3</th>\n      <th>4</th>\n      <th>5</th>\n      <th>6</th>\n      <th>7</th>\n      <th>8</th>\n      <th>9</th>\n      <th>...</th>\n      <th>Unnamed: 15</th>\n      <th>contestant_id</th>\n      <th>season_number</th>\n      <th>contestant_entrance</th>\n      <th>age</th>\n      <th>hometown_city</th>\n      <th>hometown_state</th>\n      <th>season_outcome</th>\n      <th>handle_instagram</th>\n      <th>handle_twitter</th>\n    </tr>\n  </thead>\n  <tbody>\n    <tr>\n      <th>0</th>\n      <td>Jaida Essence Hall</td>\n      <td>NaN</td>\n      <td>WIN</td>\n      <td>SAFE</td>\n      <td>HIGH</td>\n      <td>SAFE</td>\n      <td>SAFE</td>\n      <td>SAFE</td>\n      <td>HIGH</td>\n      <td>WIN</td>\n      <td>...</td>\n      <td>NaN</td>\n      <td>156</td>\n      <td>12</td>\n      <td>12</td>\n      <td>32</td>\n      <td>Milwaukee</td>\n      <td>Wisconsin</td>\n      <td>1</td>\n      <td>jaidaehall</td>\n      <td>jaidaehall</td>\n    </tr>\n    <tr>\n      <th>1</th>\n      <td>Gigi Goode</td>\n      <td>TOP2</td>\n      <td>NaN</td>\n      <td>SAFE</td>\n      <td>WIN</td>\n      <td>HIGH</td>\n      <td>WIN</td>\n      <td>WIN</td>\n      <td>LOW</td>\n      <td>LOW</td>\n      <td>...</td>\n      <td>NaN</td>\n      <td>150</td>\n      <td>12</td>\n      <td>6</td>\n      <td>21</td>\n      <td>Los Angeles</td>\n      <td>California</td>\n      <td>2</td>\n      <td>thegigigoode</td>\n      <td>thegigigoode</td>\n    </tr>\n    <tr>\n      <th>2</th>\n      <td>Crystal Methyd</td>\n      <td>SAFE</td>\n      <td>NaN</td>\n      <td>LOW</td>\n      <td>SAFE</td>\n      <td>SAFE</td>\n      <td>LOW</td>\n      <td>HIGH</td>\n      <td>HIGH</td>\n      <td>HIGH</td>\n      <td>...</td>\n      <td>NaN</td>\n      <td>151</td>\n      <td>12</td>\n      <td>7</td>\n      <td>28</td>\n      <td>Springfield</td>\n      <td>Missouri</td>\n      <td>2</td>\n      <td>crystalmethyd</td>\n      <td>crystalmethyd</td>\n    </tr>\n    <tr>\n      <th>3</th>\n      <td>Sherry Pie</td>\n      <td>NaN</td>\n      <td>TOP2</td>\n      <td>WIN</td>\n      <td>SAFE</td>\n      <td>WIN</td>\n      <td>HIGH</td>\n      <td>SAFE</td>\n      <td>LOW</td>\n      <td>SAFE</td>\n      <td>...</td>\n      <td>NaN</td>\n      <td>154</td>\n      <td>12</td>\n      <td>10</td>\n      <td>27</td>\n      <td>New York</td>\n      <td>New York</td>\n      <td>0</td>\n      <td>sherrypienyc</td>\n      <td>sherrypienyc</td>\n    </tr>\n    <tr>\n      <th>4</th>\n      <td>Jackie Cox</td>\n      <td>HIGH</td>\n      <td>NaN</td>\n      <td>HIGH</td>\n      <td>SAFE</td>\n      <td>HIGH</td>\n      <td>HIGH</td>\n      <td>LOW</td>\n      <td>HIGH</td>\n      <td>BTM2</td>\n      <td>...</td>\n      <td>NaN</td>\n      <td>148</td>\n      <td>12</td>\n      <td>4</td>\n      <td>34</td>\n      <td>New York</td>\n      <td>New York</td>\n      <td>5</td>\n      <td>jackiecoxnyc</td>\n      <td>jackiecoxnyc</td>\n    </tr>\n  </tbody>\n</table>\n<p>5 rows × 25 columns</p>\n</div>"
     },
     "metadata": {},
     "execution_count": 16
    }
   ],
   "source": [
    "merged.head()"
   ]
  },
  {
   "cell_type": "markdown",
   "id": "sacred-candidate",
   "metadata": {},
   "source": [
    "### Filter to match columns in ranking spreadsheet"
   ]
  },
  {
   "cell_type": "code",
   "execution_count": 17,
   "id": "stuck-genre",
   "metadata": {},
   "outputs": [],
   "source": [
    "s12_rank = merged.filter(regex=r\"\\d|contestant_id|season_number\", axis=1)"
   ]
  },
  {
   "cell_type": "code",
   "execution_count": 18,
   "id": "minor-superior",
   "metadata": {},
   "outputs": [
    {
     "output_type": "execute_result",
     "data": {
      "text/plain": [
       "      1     2     3     4     5     6     7     8     9    10    11    12  \\\n",
       "0   NaN   WIN  SAFE  HIGH  SAFE  SAFE  SAFE  HIGH   WIN   WIN  BTM2  HIGH   \n",
       "1  TOP2   NaN  SAFE   WIN  HIGH   WIN   WIN   LOW   LOW  SAFE  SAFE   WIN   \n",
       "2  SAFE   NaN   LOW  SAFE  SAFE   LOW  HIGH  HIGH  HIGH  HIGH   WIN  BTM2   \n",
       "3   NaN  TOP2   WIN  SAFE   WIN  HIGH  SAFE   LOW  SAFE  HIGH   LOW  DISQ   \n",
       "4  HIGH   NaN  HIGH  SAFE  HIGH  HIGH   LOW  HIGH  BTM2  BTM2  HIGH  ELIM   \n",
       "\n",
       "      13         14  Unnamed: 15  contestant_id season_number  \n",
       "0  Guest     Winner          NaN            156            12  \n",
       "1  Guest  Runner-up          NaN            150            12  \n",
       "2  Guest  Runner-up          NaN            151            12  \n",
       "3    NaN        NaN          NaN            154            12  \n",
       "4  Guest      Guest          NaN            148            12  "
      ],
      "text/html": "<div>\n<style scoped>\n    .dataframe tbody tr th:only-of-type {\n        vertical-align: middle;\n    }\n\n    .dataframe tbody tr th {\n        vertical-align: top;\n    }\n\n    .dataframe thead th {\n        text-align: right;\n    }\n</style>\n<table border=\"1\" class=\"dataframe\">\n  <thead>\n    <tr style=\"text-align: right;\">\n      <th></th>\n      <th>1</th>\n      <th>2</th>\n      <th>3</th>\n      <th>4</th>\n      <th>5</th>\n      <th>6</th>\n      <th>7</th>\n      <th>8</th>\n      <th>9</th>\n      <th>10</th>\n      <th>11</th>\n      <th>12</th>\n      <th>13</th>\n      <th>14</th>\n      <th>Unnamed: 15</th>\n      <th>contestant_id</th>\n      <th>season_number</th>\n    </tr>\n  </thead>\n  <tbody>\n    <tr>\n      <th>0</th>\n      <td>NaN</td>\n      <td>WIN</td>\n      <td>SAFE</td>\n      <td>HIGH</td>\n      <td>SAFE</td>\n      <td>SAFE</td>\n      <td>SAFE</td>\n      <td>HIGH</td>\n      <td>WIN</td>\n      <td>WIN</td>\n      <td>BTM2</td>\n      <td>HIGH</td>\n      <td>Guest</td>\n      <td>Winner</td>\n      <td>NaN</td>\n      <td>156</td>\n      <td>12</td>\n    </tr>\n    <tr>\n      <th>1</th>\n      <td>TOP2</td>\n      <td>NaN</td>\n      <td>SAFE</td>\n      <td>WIN</td>\n      <td>HIGH</td>\n      <td>WIN</td>\n      <td>WIN</td>\n      <td>LOW</td>\n      <td>LOW</td>\n      <td>SAFE</td>\n      <td>SAFE</td>\n      <td>WIN</td>\n      <td>Guest</td>\n      <td>Runner-up</td>\n      <td>NaN</td>\n      <td>150</td>\n      <td>12</td>\n    </tr>\n    <tr>\n      <th>2</th>\n      <td>SAFE</td>\n      <td>NaN</td>\n      <td>LOW</td>\n      <td>SAFE</td>\n      <td>SAFE</td>\n      <td>LOW</td>\n      <td>HIGH</td>\n      <td>HIGH</td>\n      <td>HIGH</td>\n      <td>HIGH</td>\n      <td>WIN</td>\n      <td>BTM2</td>\n      <td>Guest</td>\n      <td>Runner-up</td>\n      <td>NaN</td>\n      <td>151</td>\n      <td>12</td>\n    </tr>\n    <tr>\n      <th>3</th>\n      <td>NaN</td>\n      <td>TOP2</td>\n      <td>WIN</td>\n      <td>SAFE</td>\n      <td>WIN</td>\n      <td>HIGH</td>\n      <td>SAFE</td>\n      <td>LOW</td>\n      <td>SAFE</td>\n      <td>HIGH</td>\n      <td>LOW</td>\n      <td>DISQ</td>\n      <td>NaN</td>\n      <td>NaN</td>\n      <td>NaN</td>\n      <td>154</td>\n      <td>12</td>\n    </tr>\n    <tr>\n      <th>4</th>\n      <td>HIGH</td>\n      <td>NaN</td>\n      <td>HIGH</td>\n      <td>SAFE</td>\n      <td>HIGH</td>\n      <td>HIGH</td>\n      <td>LOW</td>\n      <td>HIGH</td>\n      <td>BTM2</td>\n      <td>BTM2</td>\n      <td>HIGH</td>\n      <td>ELIM</td>\n      <td>Guest</td>\n      <td>Guest</td>\n      <td>NaN</td>\n      <td>148</td>\n      <td>12</td>\n    </tr>\n  </tbody>\n</table>\n</div>"
     },
     "metadata": {},
     "execution_count": 18
    }
   ],
   "source": [
    "s12_rank.head()"
   ]
  },
  {
   "cell_type": "markdown",
   "id": "refined-daisy",
   "metadata": {},
   "source": [
    "### Melt to reformat to columns that match ranking spreadsheet"
   ]
  },
  {
   "cell_type": "code",
   "execution_count": 19,
   "id": "agreed-health",
   "metadata": {},
   "outputs": [
    {
     "output_type": "execute_result",
     "data": {
      "text/plain": [
       "   contestant_id season_number episode_number episode_placement\n",
       "0            156            12              1               NaN\n",
       "1            150            12              1              TOP2\n",
       "2            151            12              1              SAFE\n",
       "3            154            12              1               NaN\n",
       "4            148            12              1              HIGH"
      ],
      "text/html": "<div>\n<style scoped>\n    .dataframe tbody tr th:only-of-type {\n        vertical-align: middle;\n    }\n\n    .dataframe tbody tr th {\n        vertical-align: top;\n    }\n\n    .dataframe thead th {\n        text-align: right;\n    }\n</style>\n<table border=\"1\" class=\"dataframe\">\n  <thead>\n    <tr style=\"text-align: right;\">\n      <th></th>\n      <th>contestant_id</th>\n      <th>season_number</th>\n      <th>episode_number</th>\n      <th>episode_placement</th>\n    </tr>\n  </thead>\n  <tbody>\n    <tr>\n      <th>0</th>\n      <td>156</td>\n      <td>12</td>\n      <td>1</td>\n      <td>NaN</td>\n    </tr>\n    <tr>\n      <th>1</th>\n      <td>150</td>\n      <td>12</td>\n      <td>1</td>\n      <td>TOP2</td>\n    </tr>\n    <tr>\n      <th>2</th>\n      <td>151</td>\n      <td>12</td>\n      <td>1</td>\n      <td>SAFE</td>\n    </tr>\n    <tr>\n      <th>3</th>\n      <td>154</td>\n      <td>12</td>\n      <td>1</td>\n      <td>NaN</td>\n    </tr>\n    <tr>\n      <th>4</th>\n      <td>148</td>\n      <td>12</td>\n      <td>1</td>\n      <td>HIGH</td>\n    </tr>\n  </tbody>\n</table>\n</div>"
     },
     "metadata": {},
     "execution_count": 19
    }
   ],
   "source": [
    "s12_rank = s12_rank.melt([\"contestant_id\", \"season_number\"], var_name=\"episode_number\", value_name=\"episode_placement\")\n",
    "s12_rank.head()"
   ]
  },
  {
   "cell_type": "code",
   "execution_count": 20,
   "id": "dutch-theorem",
   "metadata": {},
   "outputs": [
    {
     "output_type": "stream",
     "name": "stdout",
     "text": [
      "<class 'pandas.core.frame.DataFrame'>\nRangeIndex: 195 entries, 0 to 194\nData columns (total 4 columns):\n #   Column             Non-Null Count  Dtype \n---  ------             --------------  ----- \n 0   contestant_id      195 non-null    int64 \n 1   season_number      195 non-null    object\n 2   episode_number     195 non-null    object\n 3   episode_placement  124 non-null    object\ndtypes: int64(1), object(3)\nmemory usage: 6.2+ KB\n"
     ]
    }
   ],
   "source": [
    "s12_rank.info()"
   ]
  },
  {
   "cell_type": "markdown",
   "id": "undefined-spice",
   "metadata": {},
   "source": [
    "### Drop empty values in episode placement"
   ]
  },
  {
   "cell_type": "code",
   "execution_count": 21,
   "id": "meaningful-combine",
   "metadata": {},
   "outputs": [
    {
     "output_type": "stream",
     "name": "stdout",
     "text": [
      "<class 'pandas.core.frame.DataFrame'>\nRangeIndex: 124 entries, 0 to 123\nData columns (total 4 columns):\n #   Column             Non-Null Count  Dtype \n---  ------             --------------  ----- \n 0   contestant_id      124 non-null    int64 \n 1   season_number      124 non-null    object\n 2   episode_number     124 non-null    object\n 3   episode_placement  124 non-null    object\ndtypes: int64(1), object(3)\nmemory usage: 4.0+ KB\n"
     ]
    }
   ],
   "source": [
    "s12_rank = s12_rank.dropna(subset=[\"episode_placement\"]).reset_index(drop=True)\n",
    "s12_rank.info()"
   ]
  },
  {
   "source": [
    "### Format type to integers where possible to match spreadsheet"
   ],
   "cell_type": "markdown",
   "metadata": {}
  },
  {
   "cell_type": "code",
   "execution_count": 22,
   "id": "found-eugene",
   "metadata": {},
   "outputs": [],
   "source": [
    "s12_rank = s12_rank.apply(pd.to_numeric, errors=\"ignore\")"
   ]
  },
  {
   "cell_type": "code",
   "execution_count": 23,
   "id": "excellent-brooklyn",
   "metadata": {},
   "outputs": [
    {
     "output_type": "stream",
     "name": "stdout",
     "text": [
      "<class 'pandas.core.frame.DataFrame'>\nRangeIndex: 124 entries, 0 to 123\nData columns (total 4 columns):\n #   Column             Non-Null Count  Dtype \n---  ------             --------------  ----- \n 0   contestant_id      124 non-null    int64 \n 1   season_number      124 non-null    int64 \n 2   episode_number     124 non-null    int64 \n 3   episode_placement  124 non-null    object\ndtypes: int64(3), object(1)\nmemory usage: 4.0+ KB\n"
     ]
    }
   ],
   "source": [
    "s12_rank.info()"
   ]
  },
  {
   "cell_type": "markdown",
   "id": "funky-investment",
   "metadata": {},
   "source": [
    "### Merge to add season 12 rankings to existing spreadsheet"
   ]
  },
  {
   "cell_type": "code",
   "execution_count": 24,
   "id": "distant-pierce",
   "metadata": {},
   "outputs": [],
   "source": [
    "dragrank_12 = pd.merge(s12_rank, ep_rank, how=\"outer\")"
   ]
  },
  {
   "cell_type": "code",
   "execution_count": 25,
   "id": "imposed-louisville",
   "metadata": {},
   "outputs": [
    {
     "output_type": "execute_result",
     "data": {
      "text/plain": [
       "   contestant_id  season_number  episode_number episode_placement\n",
       "0            150             12               1              TOP2\n",
       "1            151             12               1              SAFE\n",
       "2            148             12               1              HIGH\n",
       "3            149             12               1               LOW\n",
       "4            147             12               1               WIN"
      ],
      "text/html": "<div>\n<style scoped>\n    .dataframe tbody tr th:only-of-type {\n        vertical-align: middle;\n    }\n\n    .dataframe tbody tr th {\n        vertical-align: top;\n    }\n\n    .dataframe thead th {\n        text-align: right;\n    }\n</style>\n<table border=\"1\" class=\"dataframe\">\n  <thead>\n    <tr style=\"text-align: right;\">\n      <th></th>\n      <th>contestant_id</th>\n      <th>season_number</th>\n      <th>episode_number</th>\n      <th>episode_placement</th>\n    </tr>\n  </thead>\n  <tbody>\n    <tr>\n      <th>0</th>\n      <td>150</td>\n      <td>12</td>\n      <td>1</td>\n      <td>TOP2</td>\n    </tr>\n    <tr>\n      <th>1</th>\n      <td>151</td>\n      <td>12</td>\n      <td>1</td>\n      <td>SAFE</td>\n    </tr>\n    <tr>\n      <th>2</th>\n      <td>148</td>\n      <td>12</td>\n      <td>1</td>\n      <td>HIGH</td>\n    </tr>\n    <tr>\n      <th>3</th>\n      <td>149</td>\n      <td>12</td>\n      <td>1</td>\n      <td>LOW</td>\n    </tr>\n    <tr>\n      <th>4</th>\n      <td>147</td>\n      <td>12</td>\n      <td>1</td>\n      <td>WIN</td>\n    </tr>\n  </tbody>\n</table>\n</div>"
     },
     "metadata": {},
     "execution_count": 25
    }
   ],
   "source": [
    "dragrank_12.head()"
   ]
  },
  {
   "cell_type": "code",
   "execution_count": 26,
   "id": "renewable-checklist",
   "metadata": {},
   "outputs": [
    {
     "output_type": "stream",
     "name": "stdout",
     "text": [
      "<class 'pandas.core.frame.DataFrame'>\nInt64Index: 1324 entries, 0 to 1323\nData columns (total 4 columns):\n #   Column             Non-Null Count  Dtype \n---  ------             --------------  ----- \n 0   contestant_id      1324 non-null   int64 \n 1   season_number      1324 non-null   int64 \n 2   episode_number     1324 non-null   int64 \n 3   episode_placement  1324 non-null   object\ndtypes: int64(3), object(1)\nmemory usage: 51.7+ KB\n"
     ]
    }
   ],
   "source": [
    "dragrank_12.info()"
   ]
  },
  {
   "cell_type": "markdown",
   "id": "every-manhattan",
   "metadata": {},
   "source": [
    "### Export updated spreadsheet"
   ]
  },
  {
   "cell_type": "code",
   "execution_count": 27,
   "id": "recognized-science",
   "metadata": {},
   "outputs": [],
   "source": [
    "dragrank_12.to_csv(\"dragrank_to12.csv\", index=False)"
   ]
  },
  {
   "cell_type": "markdown",
   "id": "traditional-patch",
   "metadata": {},
   "source": [
    "### Filter NY contestants"
   ]
  },
  {
   "cell_type": "code",
   "execution_count": 28,
   "id": "impossible-grove",
   "metadata": {},
   "outputs": [],
   "source": [
    "ny_contestants = contestants[contestants.hometown_state == \"New York\"].reset_index(drop=True)"
   ]
  },
  {
   "cell_type": "code",
   "execution_count": 29,
   "id": "suited-salad",
   "metadata": {},
   "outputs": [
    {
     "output_type": "stream",
     "name": "stdout",
     "text": [
      "<class 'pandas.core.frame.DataFrame'>\nRangeIndex: 33 entries, 0 to 32\nData columns (total 10 columns):\n #   Column               Non-Null Count  Dtype \n---  ------               --------------  ----- \n 0   contestant_id        33 non-null     int64 \n 1   season_number        33 non-null     int64 \n 2   contestant_entrance  33 non-null     int64 \n 3   contestant_name      33 non-null     object\n 4   age                  33 non-null     int64 \n 5   hometown_city        33 non-null     object\n 6   hometown_state       33 non-null     object\n 7   season_outcome       33 non-null     int64 \n 8   handle_instagram     31 non-null     object\n 9   handle_twitter       30 non-null     object\ndtypes: int64(5), object(5)\nmemory usage: 2.7+ KB\n"
     ]
    }
   ],
   "source": [
    "ny_contestants.info()"
   ]
  },
  {
   "cell_type": "code",
   "execution_count": 30,
   "id": "blank-fellow",
   "metadata": {},
   "outputs": [
    {
     "output_type": "execute_result",
     "data": {
      "text/plain": [
       "   contestant_id  season_number  contestant_entrance   contestant_name  age  \\\n",
       "0             14              2                    5  Sahara Davenport   25   \n",
       "1             20              2                   11      Pandora Boxx   37   \n",
       "2             25              3                    4      Manila Luzon   28   \n",
       "3             32              3                   11      Mimi Imfurst   27   \n",
       "4             37              4                    3   Jiggly Caliente   30   \n",
       "\n",
       "  hometown_city hometown_state  season_outcome        handle_instagram  \\\n",
       "0      New York       New York               7                     NaN   \n",
       "1     Rochester       New York               5             pandoraboxx   \n",
       "2      New York       New York               2             manilaluzon   \n",
       "3      New York       New York              11             mimiimfurst   \n",
       "4        Queens       New York               8  jigglycalienteofficial   \n",
       "\n",
       "   handle_twitter  \n",
       "0             NaN  \n",
       "1  ThePandoraBoxx  \n",
       "2     manilaluzon  \n",
       "3             NaN  \n",
       "4  JigglyCaliente  "
      ],
      "text/html": "<div>\n<style scoped>\n    .dataframe tbody tr th:only-of-type {\n        vertical-align: middle;\n    }\n\n    .dataframe tbody tr th {\n        vertical-align: top;\n    }\n\n    .dataframe thead th {\n        text-align: right;\n    }\n</style>\n<table border=\"1\" class=\"dataframe\">\n  <thead>\n    <tr style=\"text-align: right;\">\n      <th></th>\n      <th>contestant_id</th>\n      <th>season_number</th>\n      <th>contestant_entrance</th>\n      <th>contestant_name</th>\n      <th>age</th>\n      <th>hometown_city</th>\n      <th>hometown_state</th>\n      <th>season_outcome</th>\n      <th>handle_instagram</th>\n      <th>handle_twitter</th>\n    </tr>\n  </thead>\n  <tbody>\n    <tr>\n      <th>0</th>\n      <td>14</td>\n      <td>2</td>\n      <td>5</td>\n      <td>Sahara Davenport</td>\n      <td>25</td>\n      <td>New York</td>\n      <td>New York</td>\n      <td>7</td>\n      <td>NaN</td>\n      <td>NaN</td>\n    </tr>\n    <tr>\n      <th>1</th>\n      <td>20</td>\n      <td>2</td>\n      <td>11</td>\n      <td>Pandora Boxx</td>\n      <td>37</td>\n      <td>Rochester</td>\n      <td>New York</td>\n      <td>5</td>\n      <td>pandoraboxx</td>\n      <td>ThePandoraBoxx</td>\n    </tr>\n    <tr>\n      <th>2</th>\n      <td>25</td>\n      <td>3</td>\n      <td>4</td>\n      <td>Manila Luzon</td>\n      <td>28</td>\n      <td>New York</td>\n      <td>New York</td>\n      <td>2</td>\n      <td>manilaluzon</td>\n      <td>manilaluzon</td>\n    </tr>\n    <tr>\n      <th>3</th>\n      <td>32</td>\n      <td>3</td>\n      <td>11</td>\n      <td>Mimi Imfurst</td>\n      <td>27</td>\n      <td>New York</td>\n      <td>New York</td>\n      <td>11</td>\n      <td>mimiimfurst</td>\n      <td>NaN</td>\n    </tr>\n    <tr>\n      <th>4</th>\n      <td>37</td>\n      <td>4</td>\n      <td>3</td>\n      <td>Jiggly Caliente</td>\n      <td>30</td>\n      <td>Queens</td>\n      <td>New York</td>\n      <td>8</td>\n      <td>jigglycalienteofficial</td>\n      <td>JigglyCaliente</td>\n    </tr>\n  </tbody>\n</table>\n</div>"
     },
     "metadata": {},
     "execution_count": 30
    }
   ],
   "source": [
    "ny_contestants.head()"
   ]
  },
  {
   "cell_type": "markdown",
   "id": "wrapped-binding",
   "metadata": {},
   "source": [
    "### Filter rankings to only NY contestants using contestant ids"
   ]
  },
  {
   "cell_type": "code",
   "execution_count": 31,
   "id": "meaning-bumper",
   "metadata": {},
   "outputs": [],
   "source": [
    "ny_rank = dragrank_12[dragrank_12[\"contestant_id\"].isin(ny_contestants.contestant_id)].reset_index(drop=True)"
   ]
  },
  {
   "cell_type": "code",
   "execution_count": 32,
   "id": "intimate-overhead",
   "metadata": {},
   "outputs": [
    {
     "output_type": "execute_result",
     "data": {
      "text/plain": [
       "   contestant_id  season_number  episode_number episode_placement\n",
       "0            148             12               1              HIGH\n",
       "1            145             12               1              HIGH\n",
       "2            146             12               1               LOW\n",
       "3            154             12               2              TOP2\n",
       "4            155             12               2              HIGH"
      ],
      "text/html": "<div>\n<style scoped>\n    .dataframe tbody tr th:only-of-type {\n        vertical-align: middle;\n    }\n\n    .dataframe tbody tr th {\n        vertical-align: top;\n    }\n\n    .dataframe thead th {\n        text-align: right;\n    }\n</style>\n<table border=\"1\" class=\"dataframe\">\n  <thead>\n    <tr style=\"text-align: right;\">\n      <th></th>\n      <th>contestant_id</th>\n      <th>season_number</th>\n      <th>episode_number</th>\n      <th>episode_placement</th>\n    </tr>\n  </thead>\n  <tbody>\n    <tr>\n      <th>0</th>\n      <td>148</td>\n      <td>12</td>\n      <td>1</td>\n      <td>HIGH</td>\n    </tr>\n    <tr>\n      <th>1</th>\n      <td>145</td>\n      <td>12</td>\n      <td>1</td>\n      <td>HIGH</td>\n    </tr>\n    <tr>\n      <th>2</th>\n      <td>146</td>\n      <td>12</td>\n      <td>1</td>\n      <td>LOW</td>\n    </tr>\n    <tr>\n      <th>3</th>\n      <td>154</td>\n      <td>12</td>\n      <td>2</td>\n      <td>TOP2</td>\n    </tr>\n    <tr>\n      <th>4</th>\n      <td>155</td>\n      <td>12</td>\n      <td>2</td>\n      <td>HIGH</td>\n    </tr>\n  </tbody>\n</table>\n</div>"
     },
     "metadata": {},
     "execution_count": 32
    }
   ],
   "source": [
    "ny_rank.head()"
   ]
  },
  {
   "cell_type": "code",
   "execution_count": 33,
   "id": "romantic-image",
   "metadata": {},
   "outputs": [
    {
     "output_type": "execute_result",
     "data": {
      "text/plain": [
       "SAFE         82\n",
       "HIGH         64\n",
       "Guest        41\n",
       "LOW          28\n",
       "BTM2         26\n",
       "ELIM         26\n",
       "WIN          21\n",
       "Winner        3\n",
       "Runner-up     3\n",
       "BTM6          2\n",
       "Miss C        2\n",
       "DISQ          1\n",
       "OUT           1\n",
       "TOP2          1\n",
       "Name: episode_placement, dtype: int64"
      ]
     },
     "metadata": {},
     "execution_count": 33
    }
   ],
   "source": [
    "ny_rank.episode_placement.value_counts()"
   ]
  },
  {
   "cell_type": "markdown",
   "id": "bulgarian-joyce",
   "metadata": {},
   "source": [
    "### Filter to placements that matter in point system"
   ]
  },
  {
   "cell_type": "code",
   "execution_count": 34,
   "id": "reliable-patent",
   "metadata": {},
   "outputs": [],
   "source": [
    "db_list = [\"SAFE\",\"HIGH\",\"LOW\",\"ELIM\",\"BTM2\",\"WIN\",\"BTM6\",\"TOP2\"]"
   ]
  },
  {
   "cell_type": "code",
   "execution_count": 35,
   "id": "blind-valuation",
   "metadata": {},
   "outputs": [],
   "source": [
    "ny_rank_db = ny_rank[ny_rank[\"episode_placement\"].isin(db_list)].reset_index()"
   ]
  },
  {
   "cell_type": "markdown",
   "id": "sudden-defense",
   "metadata": {},
   "source": [
    "### Replace placement with point system"
   ]
  },
  {
   "cell_type": "code",
   "execution_count": 36,
   "id": "floating-carbon",
   "metadata": {},
   "outputs": [],
   "source": [
    "ny_rank_db = ny_rank_db.replace([\"WIN\", \"HIGH\", \"SAFE\", \"LOW\", \"BTM2\", \"ELIM\", \"TOP2\", \"BTM6\"], [2, 1, 0, -1, -2, -2, 1.5, -2])"
   ]
  },
  {
   "cell_type": "code",
   "execution_count": 37,
   "id": "higher-yukon",
   "metadata": {},
   "outputs": [
    {
     "output_type": "execute_result",
     "data": {
      "text/plain": [
       "   index  contestant_id  season_number  episode_number  episode_placement\n",
       "0      0            148             12               1                1.0\n",
       "1      1            145             12               1                1.0\n",
       "2      2            146             12               1               -1.0\n",
       "3      3            154             12               2                1.5\n",
       "4      4            155             12               2                1.0"
      ],
      "text/html": "<div>\n<style scoped>\n    .dataframe tbody tr th:only-of-type {\n        vertical-align: middle;\n    }\n\n    .dataframe tbody tr th {\n        vertical-align: top;\n    }\n\n    .dataframe thead th {\n        text-align: right;\n    }\n</style>\n<table border=\"1\" class=\"dataframe\">\n  <thead>\n    <tr style=\"text-align: right;\">\n      <th></th>\n      <th>index</th>\n      <th>contestant_id</th>\n      <th>season_number</th>\n      <th>episode_number</th>\n      <th>episode_placement</th>\n    </tr>\n  </thead>\n  <tbody>\n    <tr>\n      <th>0</th>\n      <td>0</td>\n      <td>148</td>\n      <td>12</td>\n      <td>1</td>\n      <td>1.0</td>\n    </tr>\n    <tr>\n      <th>1</th>\n      <td>1</td>\n      <td>145</td>\n      <td>12</td>\n      <td>1</td>\n      <td>1.0</td>\n    </tr>\n    <tr>\n      <th>2</th>\n      <td>2</td>\n      <td>146</td>\n      <td>12</td>\n      <td>1</td>\n      <td>-1.0</td>\n    </tr>\n    <tr>\n      <th>3</th>\n      <td>3</td>\n      <td>154</td>\n      <td>12</td>\n      <td>2</td>\n      <td>1.5</td>\n    </tr>\n    <tr>\n      <th>4</th>\n      <td>4</td>\n      <td>155</td>\n      <td>12</td>\n      <td>2</td>\n      <td>1.0</td>\n    </tr>\n  </tbody>\n</table>\n</div>"
     },
     "metadata": {},
     "execution_count": 37
    }
   ],
   "source": [
    "ny_rank_db.head()"
   ]
  },
  {
   "source": [
    "### Find NY contestant with best track record in points"
   ],
   "cell_type": "markdown",
   "metadata": {}
  },
  {
   "cell_type": "code",
   "execution_count": 38,
   "id": "express-lobby",
   "metadata": {},
   "outputs": [
    {
     "output_type": "execute_result",
     "data": {
      "text/plain": [
       "    contestant_id  episode_placement\n",
       "17            107                8.0\n",
       "2              25                7.0\n",
       "31            154                5.5\n",
       "24            129                5.0\n",
       "15             98                4.0"
      ],
      "text/html": "<div>\n<style scoped>\n    .dataframe tbody tr th:only-of-type {\n        vertical-align: middle;\n    }\n\n    .dataframe tbody tr th {\n        vertical-align: top;\n    }\n\n    .dataframe thead th {\n        text-align: right;\n    }\n</style>\n<table border=\"1\" class=\"dataframe\">\n  <thead>\n    <tr style=\"text-align: right;\">\n      <th></th>\n      <th>contestant_id</th>\n      <th>episode_placement</th>\n    </tr>\n  </thead>\n  <tbody>\n    <tr>\n      <th>17</th>\n      <td>107</td>\n      <td>8.0</td>\n    </tr>\n    <tr>\n      <th>2</th>\n      <td>25</td>\n      <td>7.0</td>\n    </tr>\n    <tr>\n      <th>31</th>\n      <td>154</td>\n      <td>5.5</td>\n    </tr>\n    <tr>\n      <th>24</th>\n      <td>129</td>\n      <td>5.0</td>\n    </tr>\n    <tr>\n      <th>15</th>\n      <td>98</td>\n      <td>4.0</td>\n    </tr>\n  </tbody>\n</table>\n</div>"
     },
     "metadata": {},
     "execution_count": 38
    }
   ],
   "source": [
    "ny_rank_db.groupby(\"contestant_id\").episode_placement.sum().reset_index().sort_values(\"episode_placement\", ascending=False).head(5)"
   ]
  },
  {
   "cell_type": "code",
   "execution_count": 39,
   "id": "tough-trademark",
   "metadata": {},
   "outputs": [
    {
     "output_type": "execute_result",
     "data": {
      "text/plain": [
       "106    Sasha Velour\n",
       "Name: contestant_name, dtype: object"
      ]
     },
     "metadata": {},
     "execution_count": 39
    }
   ],
   "source": [
    "contestants.loc[contestants[\"contestant_id\"] == 107, \"contestant_name\"]"
   ]
  },
  {
   "source": [
    "### Find season with the most NY contestants"
   ],
   "cell_type": "markdown",
   "metadata": {}
  },
  {
   "cell_type": "code",
   "execution_count": 40,
   "id": "polish-progress",
   "metadata": {},
   "outputs": [
    {
     "output_type": "execute_result",
     "data": {
      "text/plain": [
       "   index  season_number\n",
       "0     10              5\n",
       "1     12              5\n",
       "2      9              4\n",
       "3      6              3\n",
       "4      7              3"
      ],
      "text/html": "<div>\n<style scoped>\n    .dataframe tbody tr th:only-of-type {\n        vertical-align: middle;\n    }\n\n    .dataframe tbody tr th {\n        vertical-align: top;\n    }\n\n    .dataframe thead th {\n        text-align: right;\n    }\n</style>\n<table border=\"1\" class=\"dataframe\">\n  <thead>\n    <tr style=\"text-align: right;\">\n      <th></th>\n      <th>index</th>\n      <th>season_number</th>\n    </tr>\n  </thead>\n  <tbody>\n    <tr>\n      <th>0</th>\n      <td>10</td>\n      <td>5</td>\n    </tr>\n    <tr>\n      <th>1</th>\n      <td>12</td>\n      <td>5</td>\n    </tr>\n    <tr>\n      <th>2</th>\n      <td>9</td>\n      <td>4</td>\n    </tr>\n    <tr>\n      <th>3</th>\n      <td>6</td>\n      <td>3</td>\n    </tr>\n    <tr>\n      <th>4</th>\n      <td>7</td>\n      <td>3</td>\n    </tr>\n  </tbody>\n</table>\n</div>"
     },
     "metadata": {},
     "execution_count": 40
    }
   ],
   "source": [
    "contestants[contestants[\"hometown_state\"] == \"New York\"].season_number.value_counts().reset_index().head(5)"
   ]
  },
  {
   "cell_type": "code",
   "execution_count": 41,
   "id": "raising-specification",
   "metadata": {},
   "outputs": [
    {
     "output_type": "execute_result",
     "data": {
      "text/plain": [
       "144         Brita\n",
       "145    Nicky Doll\n",
       "147    Jackie Cox\n",
       "153    Sherry Pie\n",
       "154           Jan\n",
       "Name: contestant_name, dtype: object"
      ]
     },
     "metadata": {},
     "execution_count": 41
    }
   ],
   "source": [
    "contestants.loc[(contestants[\"hometown_state\"] == \"New York\") & (contestants[\"season_number\"] == 12), \"contestant_name\"]"
   ]
  },
  {
   "cell_type": "code",
   "execution_count": 42,
   "id": "latter-scott",
   "metadata": {},
   "outputs": [
    {
     "output_type": "execute_result",
     "data": {
      "text/plain": [
       "117          Miz Cracker\n",
       "118       Yuhua Hamasaki\n",
       "120       Monét X Change\n",
       "125    Dusty Ray Bottoms\n",
       "128              Aquaria\n",
       "Name: contestant_name, dtype: object"
      ]
     },
     "metadata": {},
     "execution_count": 42
    }
   ],
   "source": [
    "contestants.loc[(contestants[\"hometown_state\"] == \"New York\") & (contestants[\"season_number\"] == 10), \"contestant_name\"]"
   ]
  },
  {
   "cell_type": "markdown",
   "id": "angry-picture",
   "metadata": {},
   "source": [
    "### Find lip sync assasssin (survived most BTM2)"
   ]
  },
  {
   "cell_type": "code",
   "execution_count": 43,
   "id": "excessive-lexington",
   "metadata": {},
   "outputs": [
    {
     "output_type": "execute_result",
     "data": {
      "text/plain": [
       "   index  contestant_id\n",
       "0     75              3\n",
       "1    121              2\n",
       "2     37              2"
      ],
      "text/html": "<div>\n<style scoped>\n    .dataframe tbody tr th:only-of-type {\n        vertical-align: middle;\n    }\n\n    .dataframe tbody tr th {\n        vertical-align: top;\n    }\n\n    .dataframe thead th {\n        text-align: right;\n    }\n</style>\n<table border=\"1\" class=\"dataframe\">\n  <thead>\n    <tr style=\"text-align: right;\">\n      <th></th>\n      <th>index</th>\n      <th>contestant_id</th>\n    </tr>\n  </thead>\n  <tbody>\n    <tr>\n      <th>0</th>\n      <td>75</td>\n      <td>3</td>\n    </tr>\n    <tr>\n      <th>1</th>\n      <td>121</td>\n      <td>2</td>\n    </tr>\n    <tr>\n      <th>2</th>\n      <td>37</td>\n      <td>2</td>\n    </tr>\n  </tbody>\n</table>\n</div>"
     },
     "metadata": {},
     "execution_count": 43
    }
   ],
   "source": [
    "ny_rank[ny_rank[\"episode_placement\"] == \"BTM2\"].contestant_id.value_counts().reset_index().head(3)"
   ]
  },
  {
   "cell_type": "code",
   "execution_count": 44,
   "id": "powered-steal",
   "metadata": {},
   "outputs": [
    {
     "output_type": "execute_result",
     "data": {
      "text/plain": [
       "74    Darienne Lake\n",
       "Name: contestant_name, dtype: object"
      ]
     },
     "metadata": {},
     "execution_count": 44
    }
   ],
   "source": [
    "contestants.loc[contestants[\"contestant_id\"] == 75, \"contestant_name\"]"
   ]
  },
  {
   "cell_type": "markdown",
   "id": "crude-french",
   "metadata": {},
   "source": [
    "### Find the NY contestant with most followers on instagram"
   ]
  },
  {
   "cell_type": "code",
   "execution_count": 45,
   "id": "governing-packaging",
   "metadata": {
    "tags": []
   },
   "outputs": [
    {
     "output_type": "stream",
     "name": "stdout",
     "text": [
      "'float' object has no attribute 'lower' False\n",
      "pandoraboxx has 358029 followers\n",
      "manilaluzon has 1503122 followers\n",
      "mimiimfurst has 62617 followers\n",
      "jigglycalienteofficial has 179762 followers\n",
      "'float' object has no attribute 'lower' False\n",
      "viviennepinay has 28809 followers\n",
      "vivaciousnyc has 130852 followers\n",
      "bigandmilky has 937979 followers\n",
      "dariennelake has 166493 followers\n",
      "missfamenyc has 1103790 followers\n",
      "mrskashadavis has 221953 followers\n",
      "pearliaison has 1051870 followers\n",
      "acidbetty has 351162 followers\n",
      "thorgythor has 735283 followers\n",
      "bobthedragqueen has 1486873 followers\n",
      "peppermint247 has 684993 followers\n",
      "sashavelour has 1842453 followers\n",
      "alexislives has 214421 followers\n",
      "ajathekween has 871402 followers\n",
      "miz_cracker has 1185585 followers\n",
      "yuhuahamasaki has 254186 followers\n",
      "monetxchange has 1065627 followers\n",
      "dustyray has 290227 followers\n",
      "ageofaquaria has 1756166 followers\n",
      "missshugacain has 358822 followers\n",
      "scarletenvy has 454125 followers\n",
      "honeydavenportofficial has 120190 followers\n",
      "thebritafilter has 155008 followers\n",
      "thenickydoll has 612735 followers\n",
      "jackiecoxnyc has 599575 followers\n",
      "sherrypienyc has 53621 followers\n",
      "janjanjan has 503040 followers\n"
     ]
    }
   ],
   "source": [
    "ny_insta = ny_contestants.loc[:, \"handle_instagram\"].copy()\n",
    "\n",
    "def getFollowerCount(PROFILE):\n",
    "    L = Instaloader()\n",
    "    try:\n",
    "        profile = Profile.from_username(L.context, PROFILE)\n",
    "        print(PROFILE, 'has', profile.followers, 'followers')\n",
    "        return(profile.followers)\n",
    "    except Exception as exception :\n",
    "        print(exception, False)\n",
    "        return(0)\n",
    "\n",
    "followerCounts = []\n",
    "for handle in ny_insta:\n",
    "    followerCounts.append(getFollowerCount(handle))\n",
    "\n",
    "ny_insta = ny_insta.to_frame()\n",
    "ny_insta[\"follower_count\"] = pd.Series(followerCounts)"
   ]
  },
  {
   "cell_type": "code",
   "execution_count": 46,
   "id": "lined-sample",
   "metadata": {},
   "outputs": [
    {
     "output_type": "execute_result",
     "data": {
      "text/plain": [
       "         handle_instagram  follower_count\n",
       "0                     NaN               0\n",
       "1             pandoraboxx          358029\n",
       "2             manilaluzon         1503122\n",
       "3             mimiimfurst           62617\n",
       "4  jigglycalienteofficial          179762"
      ],
      "text/html": "<div>\n<style scoped>\n    .dataframe tbody tr th:only-of-type {\n        vertical-align: middle;\n    }\n\n    .dataframe tbody tr th {\n        vertical-align: top;\n    }\n\n    .dataframe thead th {\n        text-align: right;\n    }\n</style>\n<table border=\"1\" class=\"dataframe\">\n  <thead>\n    <tr style=\"text-align: right;\">\n      <th></th>\n      <th>handle_instagram</th>\n      <th>follower_count</th>\n    </tr>\n  </thead>\n  <tbody>\n    <tr>\n      <th>0</th>\n      <td>NaN</td>\n      <td>0</td>\n    </tr>\n    <tr>\n      <th>1</th>\n      <td>pandoraboxx</td>\n      <td>358029</td>\n    </tr>\n    <tr>\n      <th>2</th>\n      <td>manilaluzon</td>\n      <td>1503122</td>\n    </tr>\n    <tr>\n      <th>3</th>\n      <td>mimiimfurst</td>\n      <td>62617</td>\n    </tr>\n    <tr>\n      <th>4</th>\n      <td>jigglycalienteofficial</td>\n      <td>179762</td>\n    </tr>\n  </tbody>\n</table>\n</div>"
     },
     "metadata": {},
     "execution_count": 46
    }
   ],
   "source": [
    "ny_insta.head()"
   ]
  },
  {
   "cell_type": "code",
   "execution_count": 47,
   "id": "basic-librarian",
   "metadata": {},
   "outputs": [
    {
     "output_type": "execute_result",
     "data": {
      "text/plain": [
       "   handle_instagram  follower_count\n",
       "17      sashavelour         1842453\n",
       "24     ageofaquaria         1756166\n",
       "2       manilaluzon         1503122\n",
       "15  bobthedragqueen         1486873\n",
       "20      miz_cracker         1185585"
      ],
      "text/html": "<div>\n<style scoped>\n    .dataframe tbody tr th:only-of-type {\n        vertical-align: middle;\n    }\n\n    .dataframe tbody tr th {\n        vertical-align: top;\n    }\n\n    .dataframe thead th {\n        text-align: right;\n    }\n</style>\n<table border=\"1\" class=\"dataframe\">\n  <thead>\n    <tr style=\"text-align: right;\">\n      <th></th>\n      <th>handle_instagram</th>\n      <th>follower_count</th>\n    </tr>\n  </thead>\n  <tbody>\n    <tr>\n      <th>17</th>\n      <td>sashavelour</td>\n      <td>1842453</td>\n    </tr>\n    <tr>\n      <th>24</th>\n      <td>ageofaquaria</td>\n      <td>1756166</td>\n    </tr>\n    <tr>\n      <th>2</th>\n      <td>manilaluzon</td>\n      <td>1503122</td>\n    </tr>\n    <tr>\n      <th>15</th>\n      <td>bobthedragqueen</td>\n      <td>1486873</td>\n    </tr>\n    <tr>\n      <th>20</th>\n      <td>miz_cracker</td>\n      <td>1185585</td>\n    </tr>\n  </tbody>\n</table>\n</div>"
     },
     "metadata": {},
     "execution_count": 47
    }
   ],
   "source": [
    "ny_insta.sort_values(\"follower_count\", ascending=False).head()"
   ]
  }
 ],
 "metadata": {
  "kernelspec": {
   "display_name": "Python 3",
   "language": "python",
   "name": "python3"
  },
  "language_info": {
   "codemirror_mode": {
    "name": "ipython",
    "version": 3
   },
   "file_extension": ".py",
   "mimetype": "text/x-python",
   "name": "python",
   "nbconvert_exporter": "python",
   "pygments_lexer": "ipython3",
   "version": "3.9.2-final"
  }
 },
 "nbformat": 4,
 "nbformat_minor": 5
}